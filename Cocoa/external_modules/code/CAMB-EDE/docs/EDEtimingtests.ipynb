{
 "cells": [
  {
   "cell_type": "markdown",
   "id": "46d94cc1",
   "metadata": {},
   "source": [
    "# CAMB-EDE Timing Tests\n",
    "\n",
    "Notebook for timing and optimizing CAMB-EDE. Author: João Victor S. Rebouças, December 2021.\n",
    "\n",
    "Vivian's comments:\n",
    " - Make a table with: integration parameters, runtime (normalized or difference to wcdm), n of cores, chi^2 (any foreground) for each different dataset (CMB, BAO, SNe)\n",
    " - chi^2 difference must be much less than 1\n",
    " - Integration parameters: nsteps, zcfdeprec, maybe npointslinear and log_treshold, integrate_tol\n",
    " - Close most programs before testing, use htop\n",
    " - Do for H0 first, then thetastar\n",
    " - Integrate until rho_field/rho_lambda = treshold\n",
    " - astart around $10^{-6}$\n",
    " - Start with 1 core, then test the scaling in GridUnesp (1, 2, 4, 8 cores)\n",
    " - \"If you use non-adaptative time steps, you REALLY need to know your system\" - Vivian Miranda\n",
    " \n",
    "What I'm investigating: For CAMB-quintessence, quintessence is 2x as slower than lcdm. Why is 2.5x slower in CAMB-EDE?\n",
    "\n",
    "Note - It takes much longer to fit fde = 0.2 than fde = 0.07;\n",
    "zc doesn't make much difference"
   ]
  },
  {
   "cell_type": "code",
   "execution_count": 1,
   "id": "a9ce5dec",
   "metadata": {},
   "outputs": [],
   "source": [
    "# Vivian's comments:\n",
    "# \"if you use non-adaptive time step, you REALLY need to know your model\n",
    "# start with one model\n",
    "# col1 - what i'm trying: zc accuracy, V0 window, binsearch accuracy, number of bg time steps; col2 = chi2 (for each likelihood), col3 = runtime\n",
    "# do for H0, not thetastar\n",
    "# probably we will use npoints around a couple hundred\n",
    "# astart = 10^(-6)\n",
    "# optimizations in background: accuracy, change time step?,  \n",
    "# chi^2 for EACH individual likelihoods involved\n",
    "\n",
    "# compare with literature\n",
    "# long tails for zc\n",
    "# reproduce for quintessence\n",
    "# after: test scaling in gridunesp: use 1, 2, 4, 6, 8 cores and compare\n",
    "# idea: if the field begins frozen, initial time step can be large. just when the field starts to be dynamic the time step needs to be small.\n",
    "# adaptive time step!!!!!!!!\n",
    "# use NAG integrator\n",
    "# numerical recipes - adaptive runge kutta\n",
    "# quintessence: one accuracy for z < 10, another for z > 10\n",
    "# compare chains from old and new code"
   ]
  },
  {
   "cell_type": "code",
   "execution_count": 2,
   "id": "cc327c47",
   "metadata": {},
   "outputs": [
    {
     "name": "stdout",
     "output_type": "stream",
     "text": [
      "Using CAMB 1.3.4 installed at /home/joaov/CAMB/CAMB-EDE/camb\n"
     ]
    }
   ],
   "source": [
    "import numpy as np\n",
    "import matplotlib.pyplot as plt\n",
    "import camb\n",
    "import sys, platform, os\n",
    "import time\n",
    "camb_path = os.path.realpath(os.path.join(os.getcwd(),'..'))\n",
    "sys.path.insert(0,camb_path)\n",
    "print('Using CAMB %s installed at %s'%(camb.__version__,os.path.dirname(camb.__file__)))\n",
    "# If you have many CAMB versions at your disposal, it's always useful to check which CAMB is being used."
   ]
  },
  {
   "cell_type": "code",
   "execution_count": 3,
   "id": "10295c9b",
   "metadata": {},
   "outputs": [],
   "source": [
    "# Energy density unit conversion\n",
    "Mpc = 3.085678e22\n",
    "c = 2.99792458e8\n",
    "G = 6.6738e-11\n",
    "kappa = 8 * np.pi * G\n",
    "hplanck = 6.62606896e-34\n",
    "hbar = hplanck/2/np.pi\n",
    "Tpl = np.sqrt(kappa*hbar/c**5)\n",
    "energyunitconversion = Mpc**2/(c**2 * Tpl**2)\n",
    "# Potentials:\n",
    "rocknroll = 1\n",
    "axionede = 2\n",
    "# Repetitions for each try\n",
    "number_of_reps = 10"
   ]
  },
  {
   "cell_type": "markdown",
   "id": "8de2716c",
   "metadata": {},
   "source": [
    "## 1 - $\\Lambda$CDM"
   ]
  },
  {
   "cell_type": "code",
   "execution_count": 4,
   "id": "fe64d3e2",
   "metadata": {},
   "outputs": [
    {
     "name": "stdout",
     "output_type": "stream",
     "text": [
      "Avg runtime for LambdaCDM: 0.98 seconds\n"
     ]
    }
   ],
   "source": [
    "# LambdaCDM\n",
    "lcdmruntime = 0\n",
    "for i in range(number_of_reps):\n",
    "    start = time.time()\n",
    "    pars = camb.set_params(# Background\n",
    "                                    thetastar=0.0104, ombh2=0.02238280, omch2=0.1201075, TCMB = 2.7255,                      \n",
    "                                    # Neutrinos\n",
    "                                    omnuh2 = 0, num_nu_massless=3.044, num_nu_massive = 0,\n",
    "                                    nu_mass_degeneracies=[0], nu_mass_numbers = [0],\n",
    "                                    # Initial Power Spectrum\n",
    "                                    As = 2.100549e-09, ns = 0.9660499, \n",
    "                                    YHe = 0.246, WantTransfer=True)\n",
    "    lcdmresults = camb.get_results(pars)\n",
    "    end = time.time()\n",
    "    lcdmruntime = lcdmruntime + (end-start)\n",
    "print('Avg runtime for LambdaCDM: %.2f seconds' % (lcdmruntime/number_of_reps))"
   ]
  },
  {
   "cell_type": "markdown",
   "id": "ecf5b981",
   "metadata": {},
   "source": [
    "## 2 - Rock 'n' Roll EDE with zc/fde"
   ]
  },
  {
   "cell_type": "code",
   "execution_count": 5,
   "id": "88eaa0f6",
   "metadata": {},
   "outputs": [
    {
     "name": "stdout",
     "output_type": "stream",
     "text": [
      "Avg runtime for EDE w/ zc/fde: 2.55 seconds\n",
      "2.61 times slower than lambda-CDM\n"
     ]
    }
   ],
   "source": [
    "# Timing for Rock 'n' Roll w/ zc/fde\n",
    "ederuntime = 0\n",
    "for i in range(number_of_reps):\n",
    "    start = time.time()\n",
    "    edecosmology = camb.set_params(# Background\n",
    "                                    thetastar = 0.0104, ombh2=0.02238280, omch2=0.1201075, TCMB = 2.7255,\n",
    "                                    # EDE with inverse power law potential\n",
    "                                    dark_energy_model = 'EarlyDarkEnergy', which_potential = 1,\n",
    "                                    n = 4, use_zc = True, zc = 3000, fde_zc = 0.05,                          \n",
    "                                    # Neutrinos\n",
    "                                    omnuh2 = 0, num_nu_massless=3.044, num_nu_massive = 0,\n",
    "                                    nu_mass_degeneracies=[0], nu_mass_numbers = [0],\n",
    "                                    # Initial Power Spectrum\n",
    "                                    As = 2.100549e-09, ns = 0.9660499, \n",
    "                                    YHe = 0.246, WantTransfer=True, npoints=200, zcfdeprec=0.01)\n",
    "    ederesults = camb.get_results(edecosmology)\n",
    "    end = time.time()\n",
    "    ederuntime = ederuntime + (end-start)\n",
    "print('Avg runtime for EDE w/ zc/fde: %.2f seconds' % (ederuntime/number_of_reps))\n",
    "print('%.2f times slower than lambda-CDM' % (ederuntime/lcdmruntime))"
   ]
  },
  {
   "cell_type": "markdown",
   "id": "8a75d591",
   "metadata": {},
   "source": [
    "## 3 - Rock 'n' Roll EDE without zc/fde"
   ]
  },
  {
   "cell_type": "code",
   "execution_count": 16,
   "id": "9ac75969",
   "metadata": {},
   "outputs": [
    {
     "name": "stdout",
     "output_type": "stream",
     "text": [
      "Avg runtime for EDE w/out zc/fde: 2.44 seconds\n",
      "2.32 times slower than lambda-CDM\n"
     ]
    }
   ],
   "source": [
    "# Timing for Rock 'n' Roll w/out zc/fde\n",
    "ederuntimenozc = 0\n",
    "for i in range(number_of_reps):\n",
    "    start = time.time()\n",
    "    edecosmology = camb.set_params(# Background\n",
    "                                    thetastar=0.0104, ombh2=0.02238280, omch2=0.1201075, TCMB = 2.7255,\n",
    "                                    # EDE with inverse power law potential\n",
    "                                    dark_energy_model = 'EarlyDarkEnergy', which_potential = 1,\n",
    "                                    n = 4, use_zc = False, V0 = 20/energyunitconversion, initial_phi = 1,                         \n",
    "                                    # Neutrinos\n",
    "                                    omnuh2 = 0, num_nu_massless=3.044, num_nu_massive = 0,\n",
    "                                    nu_mass_degeneracies=[0], nu_mass_numbers = [0],\n",
    "                                    # Initial Power Spectrum\n",
    "                                    As = 2.100549e-09, ns = 0.9660499, \n",
    "                                    YHe = 0.246, WantTransfer=True, npoints=400)\n",
    "    ederesults = camb.get_results(edecosmology)\n",
    "    end = time.time()\n",
    "    ederuntimenozc = ederuntimenozc + (end-start)\n",
    "print('Avg runtime for EDE w/out zc/fde: %.2f seconds' % (ederuntimenozc/number_of_reps))\n",
    "print('%.2f times slower than lambda-CDM' % (ederuntimenozc/(lcdmruntime)))"
   ]
  },
  {
   "cell_type": "markdown",
   "id": "53e53e86",
   "metadata": {},
   "source": [
    "## 4 - AxionEDE with zc/fde"
   ]
  },
  {
   "cell_type": "code",
   "execution_count": 7,
   "id": "a9a659a6",
   "metadata": {},
   "outputs": [
    {
     "name": "stdout",
     "output_type": "stream",
     "text": [
      "Avg runtime for AxionEDE w/ zc/fde: 2.55 seconds\n",
      "2.70 times slower than lambda-CDM\n"
     ]
    }
   ],
   "source": [
    "# Timing for Axion w/ zc/fde\n",
    "ederuntime = 0\n",
    "for i in range(number_of_reps):\n",
    "    start = time.time()\n",
    "    edecosmology = camb.set_params(# Background\n",
    "                                    thetastar=0.0104, ombh2=0.02238280, omch2=0.1201075, TCMB = 2.7255,\n",
    "                                    # EDE with inverse power law potential\n",
    "                                    dark_energy_model = 'EarlyDarkEnergy', which_potential = 2,\n",
    "                                    n = 4, use_zc = True, zc = 3000, fde_zc = 0.05,                          \n",
    "                                    # Neutrinos\n",
    "                                    omnuh2 = 0, num_nu_massless=3.044, num_nu_massive = 0,\n",
    "                                    nu_mass_degeneracies=[0], nu_mass_numbers = [0],\n",
    "                                    # Initial Power Spectrum\n",
    "                                    As = 2.100549e-09, ns = 0.9660499, \n",
    "                                    YHe = 0.246, WantTransfer=True)\n",
    "    ederesults = camb.get_results(edecosmology)\n",
    "    end = time.time()\n",
    "    ederuntime = ederuntime + (end-start)\n",
    "print('Avg runtime for AxionEDE w/ zc/fde: %.2f seconds' % (ederuntime/number_of_reps))\n",
    "print('%.2f times slower than lambda-CDM' % (ederuntime/lcdmruntime))"
   ]
  },
  {
   "cell_type": "code",
   "execution_count": null,
   "id": "a72b2c92",
   "metadata": {},
   "outputs": [],
   "source": []
  }
 ],
 "metadata": {
  "kernelspec": {
   "display_name": "Python 3 (ipykernel)",
   "language": "python",
   "name": "python3"
  },
  "language_info": {
   "codemirror_mode": {
    "name": "ipython",
    "version": 3
   },
   "file_extension": ".py",
   "mimetype": "text/x-python",
   "name": "python",
   "nbconvert_exporter": "python",
   "pygments_lexer": "ipython3",
   "version": "3.8.10"
  }
 },
 "nbformat": 4,
 "nbformat_minor": 5
}
