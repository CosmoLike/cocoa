{
 "cells": [
  {
   "cell_type": "code",
   "execution_count": null,
   "id": "856efdf1-e25e-4bee-ac31-d22fb9cc387c",
   "metadata": {},
   "outputs": [],
   "source": [
    "import numpy as np\n",
    "import getdist\n",
    "from getdist import plots\n",
    "import matplotlib.pyplot as plt\n",
    "import matplotlib\n",
    "import os\n",
    "import scipy\n",
    "import random\n",
    "%matplotlib inline\n",
    "\n",
    "import getdist.plots as gplot\n",
    "from getdist import MCSamples\n",
    "from getdist import loadMCSamples\n",
    "\n",
    "import tensiometer as ten\n",
    "from tensiometer import gaussian_tension\n",
    "from tensiometer import mcmc_tension\n",
    "from tensiometer import utilities as utils\n",
    "\n",
    "# GENERAL PLOT OPTIONS\n",
    "matplotlib.rcParams['mathtext.fontset'] = 'stix'\n",
    "matplotlib.rcParams['font.family'] = 'STIXGeneral'\n",
    "matplotlib.rcParams['mathtext.rm'] = 'Bitstream Vera Sans'\n",
    "matplotlib.rcParams['mathtext.it'] = 'Bitstream Vera Sans:italic'\n",
    "matplotlib.rcParams['mathtext.bf'] = 'Bitstream Vera Sans:bold'\n",
    "matplotlib.rcParams['xtick.bottom'] = True\n",
    "matplotlib.rcParams['xtick.top'] = False\n",
    "matplotlib.rcParams['ytick.right'] = False\n",
    "matplotlib.rcParams['axes.edgecolor'] = 'black'\n",
    "matplotlib.rcParams['axes.linewidth'] = '1.0'\n",
    "matplotlib.rcParams['axes.labelsize'] = 'medium'\n",
    "matplotlib.rcParams['axes.grid'] = True\n",
    "matplotlib.rcParams['grid.linewidth'] = '0.0'\n",
    "matplotlib.rcParams['grid.alpha'] = '0.18'\n",
    "matplotlib.rcParams['grid.color'] = 'lightgray'\n",
    "matplotlib.rcParams['legend.labelspacing'] = 0.77\n",
    "matplotlib.rcParams['savefig.bbox'] = 'tight'\n",
    "matplotlib.rcParams['savefig.format'] = 'pdf'\n",
    "\n",
    "analysissettings={'smooth_scale_1D':0.25,\n",
    "                  'smooth_scale_2D':0.25,\n",
    "                  'ignore_rows': u'0.35',\n",
    "                  'range_confidence' : u'0.005'}\n",
    "\n",
    "analysissettings2={'smooth_scale_1D':0.25,\n",
    "                   'smooth_scale_2D':0.25,\n",
    "                   'ignore_rows': u'0.0',\n",
    "                   'range_confidence' : u'0.005'}\n",
    "\n",
    "chaindir = os.environ['ROOTDIR']+'/projects/example/chains/TM/'"
   ]
  },
  {
   "cell_type": "markdown",
   "id": "54dca91a-9f22-46ce-bc6f-b4fb3963cb0e",
   "metadata": {},
   "source": [
    "Exercise inspired by Berghaus, Kable & Miranda DESI analysis (few differences: low-ell EE Planck 2020, priors not exactly the same...)"
   ]
  },
  {
   "cell_type": "markdown",
   "id": "35d481c0-7b63-4082-8f01-9ec28756bea7",
   "metadata": {},
   "source": [
    "# Definitions:"
   ]
  },
  {
   "cell_type": "code",
   "execution_count": 2,
   "id": "9a3a2251-8d2d-4d79-8b75-2542a9af824e",
   "metadata": {},
   "outputs": [],
   "source": [
    "def get_diff_chain(root_chains, \n",
    "                   num_points_thin=50000, \n",
    "                   print_param_names_diff=False, \n",
    "                   plot=False):\n",
    "    # -----------------------------------------------------------------------------\n",
    "    # SAMPLES1 --------------------------------------------------------------------\n",
    "    # -----------------------------------------------------------------------------\n",
    "    i=0\n",
    "    samples1 = loadMCSamples(chaindir + root_chains[i], settings=analysissettings);\n",
    "    samples1.thin(factor = max(int(np.sum(samples1.weights)/num_points_thin),1))\n",
    "    p = samples1.getParams();\n",
    "    samples1.saveAsText(chaindir +  '.tmp1_' + str(i));\n",
    "    samples1 = loadMCSamples(chaindir +  '.tmp1_' + str(i), settings=analysissettings2);\n",
    "    # -----------------------------------------------------------------------------\n",
    "    # SAMPLES2 --------------------------------------------------------------------\n",
    "    # -----------------------------------------------------------------------------\n",
    "    i=1\n",
    "    samples2 = loadMCSamples(chaindir + root_chains[i], settings=analysissettings);\n",
    "    samples2.thin(factor = max(int(np.sum(samples2.weights)/num_points_thin),1))\n",
    "    p = samples2.getParams();\n",
    "    samples2.saveAsText(chaindir +  '.tmp2_' + str(i));\n",
    "    samples2 = loadMCSamples(chaindir +  '.tmp2_' +  str(i), settings=analysissettings2);\n",
    "    # -----------------------------------------------------------------------------\n",
    "    # Diff Chain ------------------------------------------------------------------\n",
    "    # -----------------------------------------------------------------------------\n",
    "    diff_chain = mcmc_tension.parameter_diff_chain(samples1, samples2, boost=1)\n",
    "    if print_param_names_diff == True:\n",
    "        print(diff_chain.getParamNames())\n",
    "    # -----------------------------------------------------------------------------\n",
    "    # TENSION METRIC --------------------------------------------------------------\n",
    "    # -----------------------------------------------------------------------------\n",
    "    return (samples1, samples2, diff_chain);"
   ]
  },
  {
   "cell_type": "code",
   "execution_count": 3,
   "id": "fb8050ff-8389-4e54-8a82-4da387ce09d4",
   "metadata": {},
   "outputs": [],
   "source": [
    "def get_udm_tension(root_chains, \n",
    "                    num_points_thin = 50000, \n",
    "                    param_names = None, \n",
    "                    plot = False, \n",
    "                    print_param_names_diff=False):\n",
    "    (samples1, samples2, diff_chain) = get_diff_chain(root_chains=root_chains, \n",
    "                                                      num_points_thin=num_points_thin, \n",
    "                                                      plot=plot, \n",
    "                                                      print_param_names_diff=print_param_names_diff)\n",
    "    if plot == True:\n",
    "        diff_param_names = diff_chain.getParamNames();\n",
    "        g = plots.get_subplot_plotter()\n",
    "        g.triangle_plot([diff_chain], params=diff_param_names, filled=True, markers={_p:0 for _p in diff_param_names})    \n",
    "    # -----------------------------------------------------------------------------\n",
    "    # Tension Computation ---------------------------------------------------------\n",
    "    # -----------------------------------------------------------------------------\n",
    "    Q_UDM, Q_UDM_dofs = gaussian_tension.Q_UDM(samples1, samples2, param_names=param_names)\n",
    "    Q_UDM_P = scipy.stats.chi2.cdf(Q_UDM, Q_UDM_dofs)\n",
    "    Q_UDM_nsigma = utils.stats_utilities.from_confidence_to_sigma(Q_UDM_P)\n",
    "    return Q_UDM_nsigma"
   ]
  },
  {
   "cell_type": "code",
   "execution_count": 4,
   "id": "46aca089-7d03-46cb-a479-df43b18e1811",
   "metadata": {},
   "outputs": [],
   "source": [
    "def get_ng_tension(root_chains, \n",
    "                   num_points_thin=50000, \n",
    "                   param_names=None, \n",
    "                   plot=False, \n",
    "                   feedback=1,\n",
    "                   print_param_names_diff=False):\n",
    "    (samples1, samples2, diff_chain) = get_diff_chain(root_chains=root_chains, \n",
    "                                                      num_points_thin=num_points_thin, \n",
    "                                                      plot=plot, \n",
    "                                                      print_param_names_diff=print_param_names_diff)\n",
    "    if plot:\n",
    "        param_names2 = diff_chain.getParamNames();\n",
    "        g = plots.get_subplot_plotter()\n",
    "        g.triangle_plot([diff_chain], params=param_names2, filled=True, markers={_p:0 for _p in param_names2})\n",
    "    # -----------------------------------------------------------------------------\n",
    "    # TENSION METRIC --------------------------------------------------------------\n",
    "    # -----------------------------------------------------------------------------\n",
    "    shift_P, shift_P_low, shift_P_hi = mcmc_tension.kde_parameter_shift(diff_chain, \n",
    "                                                                        feedback=feedback,\n",
    "                                                                        param_names=param_names);\n",
    "    return utils.stats_utilities.from_confidence_to_sigma(shift_P);"
   ]
  },
  {
   "cell_type": "markdown",
   "id": "96aa0d20-5c0d-40f9-adb7-63207e448300",
   "metadata": {},
   "source": [
    "# CALCULATE UDM TENSION METRIC"
   ]
  },
  {
   "cell_type": "code",
   "execution_count": 6,
   "id": "d8ee170a",
   "metadata": {},
   "outputs": [
    {
     "name": "stdout",
     "output_type": "stream",
     "text": [
      "\n",
      "Final result for LCDM (UDM) Tension Metric (BAO = DESI-Y2):  [0.03790758956379165, nan, 1.337258404767299, nan]\n"
     ]
    }
   ],
   "source": [
    "root_chains = (\n",
    "  'PANTHEON/EXAMPLE_EMUL_MCMC1',     # CMB + SN (Pantheon) + BAO (DESI-Y2)\n",
    "  'PANTHEONPLUS/EXAMPLE_EMUL_MCMC1', # CMB + SN (pantheonplus) + BAO (DESI-Y2)\n",
    "  'DESY5/EXAMPLE_EMUL_MCMC1',        # CMB + SN (desy5) + BAO (DESI-Y2)\n",
    "  'UNION3/EXAMPLE_EMUL_MCMC1'        # CMB + SN (union3) + BAO (DESI-Y2)\n",
    ")\n",
    "param_names = ('logA','ns','H0','omegam','tau')\n",
    "answer = [0] * len(root_chains)\n",
    "for i in range(len(root_chains)):\n",
    "    root = ('EXAMPLE_EMUL_MCMC1', root_chains[i])\n",
    "    answer[i] = get_udm_tension(root_chains = root, num_points_thin = 50000, plot=False, param_names=param_names)\n",
    "print('\\nFinal result for LCDM (UDM) Tension Metric (BAO = DESI-Y2): ', answer)"
   ]
  },
  {
   "cell_type": "code",
   "execution_count": 7,
   "id": "e746ef72-6332-446f-9a6a-974fe5e10354",
   "metadata": {},
   "outputs": [
    {
     "name": "stdout",
     "output_type": "stream",
     "text": [
      "\n",
      "Final result for LCDM (UDM) Tension Metric (BAO = DESI-Y1):  [0.03683961239269808, 0.6856163801139485, 1.9832545145681482, 1.229054202824648]\n"
     ]
    }
   ],
   "source": [
    "root_chains = (\n",
    "  'PANTHEON/EXAMPLE_EMUL_MCMC2',     # CMB + SN (Pantheon) + BAO (DESI-Y1)\n",
    "  'PANTHEONPLUS/EXAMPLE_EMUL_MCMC2', # CMB + SN (pantheonplus) + BAO (DESI-Y1)\n",
    "  'DESY5/EXAMPLE_EMUL_MCMC2',        # CMB + SN (desy5) + BAO (DESI-Y1)\n",
    "  'UNION3/EXAMPLE_EMUL_MCMC2'        # CMB + SN (union3) + BAO (DESI-Y1)\n",
    ")\n",
    "param_names = ('logA','ns','H0','omegam','tau')\n",
    "answer = [0] * len(root_chains)\n",
    "for i in range(len(root_chains)):\n",
    "    root = ('EXAMPLE_EMUL_MCMC2', root_chains[i])\n",
    "    answer[i] = get_udm_tension(root_chains = root, num_points_thin = 50000, plot=False, param_names=param_names)\n",
    "print('\\nFinal result for LCDM (UDM) Tension Metric (BAO = DESI-Y1): ', answer)"
   ]
  },
  {
   "cell_type": "markdown",
   "id": "e30b2fd2-7c59-45c2-b773-2073043362fa",
   "metadata": {},
   "source": [
    "# CALCULATE NG TENSION METRIC"
   ]
  },
  {
   "cell_type": "code",
   "execution_count": null,
   "id": "08c7daf3-2214-4574-8317-5d056f09256d",
   "metadata": {
    "scrolled": true
   },
   "outputs": [],
   "source": [
    "root_chains = (\n",
    "  'PANTHEON/EXAMPLE_EMUL_MCMC3',       # SN (Pantheon)\n",
    "  'PANTHEONPLUS/EXAMPLE_EMUL_MCMC3',   # SN (pantheonplus) \n",
    "  'DESY5/EXAMPLE_EMUL_MCMC3',          # SN (desy5) \n",
    "  'UNION3/EXAMPLE_EMUL_MCMC3'          # SN (union3) \n",
    ")\n",
    "param_names = ('delta_H0','delta_omegam')\n",
    "answer = [0] * len(root_chains)\n",
    "for i in range(len(root_chains)):\n",
    "    root = ('EXAMPLE_EMUL_MCMC1', root_chains[i])\n",
    "    answer[i] = get_ng_tension(root_chains=root, num_points_thin=40000, plot=False, feedback=0,param_names=param_names)\n",
    "print('\\nFinal result for LCDM (NG) Tension Metric (BAO = DESI-Y3): ',answer)"
   ]
  },
  {
   "cell_type": "code",
   "execution_count": null,
   "id": "48a43608-d8e3-4f75-ad63-5e224444fd5e",
   "metadata": {},
   "outputs": [],
   "source": [
    "root_chains = (\n",
    "  'PANTHEON/EXAMPLE_EMUL_MCMC3',       # SN (Pantheon)\n",
    "  'PANTHEONPLUS/EXAMPLE_EMUL_MCMC3',   # SN (pantheonplus) \n",
    "  'DESY5/EXAMPLE_EMUL_MCMC3',          # SN (desy5) \n",
    "  'UNION3/EXAMPLE_EMUL_MCMC3'          # SN (union3) \n",
    ")\n",
    "param_names = ('delta_H0','delta_omegam')\n",
    "answer = [0] * len(root_chains)\n",
    "for i in range(len(root_chains)):\n",
    "    root = ('EXAMPLE_EMUL_MCMC2', root_chains[i])\n",
    "    answer[i] = get_ng_tension(root_chains=root, num_points_thin=40000, plot=False, feedback=0)\n",
    "print('\\nFinal result for LCDM (NG) Tension Metric (BAO = DESI-Y1): ',answer)"
   ]
  },
  {
   "cell_type": "markdown",
   "id": "72f33aa4-1a03-4b4e-be2e-267a9064ac94",
   "metadata": {},
   "source": [
    "# Load all chains (for Plotting)"
   ]
  },
  {
   "cell_type": "code",
   "execution_count": 15,
   "id": "16cb9e2b-d089-483b-80d8-ab11ec9604ae",
   "metadata": {},
   "outputs": [],
   "source": [
    "root_chains = (\n",
    "  'PANTHEON/EXAMPLE_EMUL_MCMC3',       # SN (Pantheon) + BAO (DESI-Y3)\n",
    "  'PANTHEONPLUS/EXAMPLE_EMUL_MCMC3',   # SN (pantheonplus) + BAO (DESI-Y3)\n",
    "  'DESY5/EXAMPLE_EMUL_MCMC3',          # SN (desy5) + BAO (DESI-Y3)\n",
    "  'UNION3/EXAMPLE_EMUL_MCMC3'          # SN (union3) + BAO (DESI-Y3)\n",
    ")\n",
    "samples1v1 = [0] * len(root_chains)\n",
    "samples2 = [0] * len(root_chains)\n",
    "diffchainv1 = [0] * len(root_chains)\n",
    "for i in range(len(root_chains)):\n",
    "    root = (root_chains[i], 'EXAMPLE_EMUL_MCMC1')\n",
    "    (samples1v1[i], samples2[i], diffchainv1[i]) = get_diff_chain(root_chains=root, num_points_thin=50000)\n",
    "\n",
    "samples1v2 = [0] * len(root_chains)\n",
    "samples2 = [0] * len(root_chains)\n",
    "diffchainv2 = [0] * len(root_chains)\n",
    "for i in range(len(root_chains)):\n",
    "    root = (root_chains[i], 'EXAMPLE_EMUL_MCMC2')\n",
    "    (samples1v2[i], samples2[i], diffchainv2[i]) = get_diff_chain(root_chains=root, num_points_thin=50000)"
   ]
  },
  {
   "cell_type": "markdown",
   "id": "30d50e31-554c-4362-80bc-6d753415356e",
   "metadata": {},
   "source": [
    "# PLOT 1D $\\Delta \\Omega_m$"
   ]
  },
  {
   "cell_type": "code",
   "execution_count": 16,
   "id": "c4fe63a7-3ee9-4ac0-a73a-6aeb831323ef",
   "metadata": {},
   "outputs": [
    {
     "name": "stderr",
     "output_type": "stream",
     "text": [
      "WARNING:matplotlib.font_manager:findfont: Font family 'stix' not found.\n",
      "WARNING:matplotlib.font_manager:findfont: Font family 'stix' not found.\n",
      "WARNING:matplotlib.font_manager:findfont: Font family 'stix' not found.\n"
     ]
    },
    {
     "data": {
      "text/plain": [
       "<Figure size 800x600 with 0 Axes>"
      ]
     },
     "metadata": {},
     "output_type": "display_data"
    },
    {
     "name": "stderr",
     "output_type": "stream",
     "text": [
      "WARNING:matplotlib.font_manager:findfont: Font family 'stix' not found.\n"
     ]
    },
    {
     "data": {
      "image/png": "[encoded data removed]",
      "text/plain": [
       "<Figure size 800x300 with 2 Axes>"
      ]
     },
     "metadata": {},
     "output_type": "display_data"
    }
   ],
   "source": [
    "g = plots.get_single_plotter(width_inch=8.0, ratio=0.75)\n",
    "g.settings.lw_contour = 1.2\n",
    "g.settings.legend_rect_border = False\n",
    "g.settings.figure_legend_frame = False\n",
    "g.settings.axes_fontsize = 13.5\n",
    "g.settings.legend_fontsize = 14.\n",
    "g.settings.alpha_filled_add = 0.7\n",
    "g.settings.lab_fontsize=15\n",
    "g.legend_labels=False\n",
    "g.settings.tight_layout=True\n",
    "\n",
    "g.vmplots_1d(\n",
    "    roots=[\n",
    "        [\n",
    "            diffchainv1[0],\n",
    "            diffchainv1[1],\n",
    "            diffchainv1[2],\n",
    "            diffchainv1[3],\n",
    "        ],\n",
    "        [\n",
    "            diffchainv2[0],\n",
    "            diffchainv2[1],\n",
    "            diffchainv2[2],\n",
    "            diffchainv2[3],\n",
    "        ],\n",
    "     ],\n",
    "    roots_per_param=True,\n",
    "    nx=2,\n",
    "    share_y=True,\n",
    "    params=[u'delta_omegam',u'delta_omegam'],\n",
    "    plot_3d_with_param=None,\n",
    "    line_args=[\n",
    "        {'lw': 1.0,'ls': 'solid', 'color':'royalblue'},\n",
    "        {'lw': 1.2,'ls': 'dashed', 'color':'lightcoral'},\n",
    "        {'lw': 1.4,'ls': '-.', 'color':'grey'},\n",
    "        {'lw': 1.6,'ls': 'dotted', 'color':'black'},\n",
    "        {'lw': 1.0,'ls': 'dashdot', 'color':'purple'}\n",
    "    ],\n",
    "    do_xlabel=True,\n",
    "    vmmessage=[\n",
    "      '$\\Lambda$CDM, BAO = DESI-Y3',\n",
    "      '$\\Lambda$CDM, BAO = DESI-Y1'\n",
    "    ],\n",
    "    vmmessage_size=13.5,\n",
    "    xlims=[[-0.1,0.15],[-0.1,0.15]],\n",
    ")\n",
    "\n",
    "g.settings.tight_layout=True\n",
    "g.finish_plot(\n",
    "    legend_labels=[\n",
    "      'Pantheon', \n",
    "      'Pantheon+', \n",
    "      'DES-Y5', \n",
    "      'Union3' \n",
    "    ],\n",
    "    legend_ncol=4,\n",
    ")\n",
    "\n",
    "ax = g.subplots\n",
    "ax[0,0].minorticks_on()\n",
    "ax[0,0].set_yticks([], minor=False)\n",
    "ax[0,0].set_yticks([], minor=True)\n",
    "# ----------------------------------------------------\n",
    "ax[0,1].minorticks_on()\n",
    "ax[0,1].set_yticks([], minor=False)\n",
    "ax[0,1].set_yticks([], minor=True)\n",
    "# ----------------------------------------------------\n",
    "g.export(chaindir + 'EXAMPLE_PLOT_TENSION.pdf')"
   ]
  },
  {
   "cell_type": "code",
   "execution_count": null,
   "id": "3ed53ba3-05a9-426a-b8f8-d8f5f0a534ce",
   "metadata": {},
   "outputs": [],
   "source": []
  }
 ],
 "metadata": {
  "kernelspec": {
   "display_name": "Python 3 (ipykernel)",
   "language": "python",
   "name": "python3"
  },
  "language_info": {
   "codemirror_mode": {
    "name": "ipython",
    "version": 3
   },
   "file_extension": ".py",
   "mimetype": "text/x-python",
   "name": "python",
   "nbconvert_exporter": "python",
   "pygments_lexer": "ipython3",
   "version": "3.10.17"
  }
 },
 "nbformat": 4,
 "nbformat_minor": 5
}
